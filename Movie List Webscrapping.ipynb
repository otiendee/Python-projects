{
 "cells": [
  {
   "cell_type": "code",
   "execution_count": 2,
   "id": "0d0bc081",
   "metadata": {},
   "outputs": [],
   "source": [
    "#importting libraries\n",
    "from bs4 import BeautifulSoup\n",
    "import requests\n"
   ]
  },
  {
   "cell_type": "code",
   "execution_count": 14,
   "id": "2da5239b",
   "metadata": {},
   "outputs": [],
   "source": [
    "#connect to website and pull in data\n",
    "response = requests.get(\"https://web.archive.org/web/20200518073855/https://www.empireonline.com/movies/features/best-movies-2/\")\n",
    "movie_list = response.text\n",
    "\n",
    "soup = BeautifulSoup(movie_list, \"html.parser\")\n",
    "\n",
    "all_movies = soup.find_all(name=\"h3\",class_=\"title\")\n",
    "\n",
    "#dictionary comprehension \n",
    "movie_titles = [movie.get_text() for movie in all_movies]\n",
    "\n",
    "#reverse the items on the list\n",
    "movies = movie_titles[::-1] \n"
   ]
  },
  {
   "cell_type": "code",
   "execution_count": 20,
   "id": "21660e1a",
   "metadata": {},
   "outputs": [],
   "source": [
    "#save the list in a txt_file\n",
    "with open(\"movie.txt\", mode=\"w\", encoding='UTF8')as file:\n",
    "    for movie in movies:\n",
    "        file.write(f\"{movie}\\n\")"
   ]
  },
  {
   "cell_type": "code",
   "execution_count": null,
   "id": "4ee01597",
   "metadata": {},
   "outputs": [],
   "source": []
  }
 ],
 "metadata": {
  "kernelspec": {
   "display_name": "Python 3 (ipykernel)",
   "language": "python",
   "name": "python3"
  },
  "language_info": {
   "codemirror_mode": {
    "name": "ipython",
    "version": 3
   },
   "file_extension": ".py",
   "mimetype": "text/x-python",
   "name": "python",
   "nbconvert_exporter": "python",
   "pygments_lexer": "ipython3",
   "version": "3.9.7"
  }
 },
 "nbformat": 4,
 "nbformat_minor": 5
}
